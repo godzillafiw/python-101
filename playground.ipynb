{
 "cells": [
  {
   "cell_type": "code",
   "execution_count": 57,
   "id": "4ca31fb0-b24c-4377-afce-bec51510f31d",
   "metadata": {},
   "outputs": [],
   "source": [
    "import pandas as pd\n",
    "from provinces import bangkok_variations"
   ]
  },
  {
   "cell_type": "code",
   "execution_count": 58,
   "id": "f487acc2-f58a-4532-a411-515c82f240a4",
   "metadata": {},
   "outputs": [],
   "source": [
    "data = {\n",
    "    \"name\": [\"Q\", \"John\"],\n",
    "    \"location\": [\"กทม.\", \"กรุงเทพฯ\"],\n",
    "}"
   ]
  },
  {
   "cell_type": "code",
   "execution_count": 59,
   "id": "16f45e40-cb16-4c25-8ba2-370f4bec41f0",
   "metadata": {},
   "outputs": [
    {
     "name": "stdout",
     "output_type": "stream",
     "text": [
      "{'name': ['Q', 'John'], 'location': ['กทม.', 'กรุงเทพฯ']}\n"
     ]
    }
   ],
   "source": [
    "print(data)"
   ]
  },
  {
   "cell_type": "code",
   "execution_count": 60,
   "id": "4ae4ffdd-2ea5-4e61-8f1f-32259d6412c1",
   "metadata": {},
   "outputs": [],
   "source": [
    "df = pd.DataFrame(data)"
   ]
  },
  {
   "cell_type": "code",
   "execution_count": 61,
   "id": "4afee83e-cc6b-4ba0-8903-dddda750772d",
   "metadata": {},
   "outputs": [
    {
     "data": {
      "text/html": [
       "<div>\n",
       "<style scoped>\n",
       "    .dataframe tbody tr th:only-of-type {\n",
       "        vertical-align: middle;\n",
       "    }\n",
       "\n",
       "    .dataframe tbody tr th {\n",
       "        vertical-align: top;\n",
       "    }\n",
       "\n",
       "    .dataframe thead th {\n",
       "        text-align: right;\n",
       "    }\n",
       "</style>\n",
       "<table border=\"1\" class=\"dataframe\">\n",
       "  <thead>\n",
       "    <tr style=\"text-align: right;\">\n",
       "      <th></th>\n",
       "      <th>name</th>\n",
       "      <th>location</th>\n",
       "    </tr>\n",
       "  </thead>\n",
       "  <tbody>\n",
       "    <tr>\n",
       "      <th>0</th>\n",
       "      <td>Q</td>\n",
       "      <td>กทม.</td>\n",
       "    </tr>\n",
       "    <tr>\n",
       "      <th>1</th>\n",
       "      <td>John</td>\n",
       "      <td>กรุงเทพฯ</td>\n",
       "    </tr>\n",
       "  </tbody>\n",
       "</table>\n",
       "</div>"
      ],
      "text/plain": [
       "   name  location\n",
       "0     Q      กทม.\n",
       "1  John  กรุงเทพฯ"
      ]
     },
     "execution_count": 61,
     "metadata": {},
     "output_type": "execute_result"
    }
   ],
   "source": [
    "df.head()"
   ]
  },
  {
   "cell_type": "code",
   "execution_count": 62,
   "id": "d21c64d0-d1d0-4b58-836e-633669d4001c",
   "metadata": {},
   "outputs": [],
   "source": [
    "# bangkok_variations = [\"กทม.\",\"กรุงเทพฯ\"]"
   ]
  },
  {
   "cell_type": "code",
   "execution_count": 63,
   "id": "e9071964-6e68-4849-802f-7a3f2e226c05",
   "metadata": {},
   "outputs": [],
   "source": [
    "def clean_thai_province(value):\n",
    "    if value in bangkok_variations:\n",
    "        return \"Bangkok\""
   ]
  },
  {
   "cell_type": "code",
   "execution_count": 64,
   "id": "fbebb283-5325-4aaf-a16d-9da659493e00",
   "metadata": {},
   "outputs": [],
   "source": [
    "new_df = df.copy(deep=True)"
   ]
  },
  {
   "cell_type": "code",
   "execution_count": 65,
   "id": "5dcbb813-9d06-40b1-8922-42c703ab40ca",
   "metadata": {},
   "outputs": [
    {
     "data": {
      "text/plain": [
       "0    Bangkok\n",
       "1    Bangkok\n",
       "Name: location, dtype: object"
      ]
     },
     "execution_count": 65,
     "metadata": {},
     "output_type": "execute_result"
    }
   ],
   "source": [
    "new_df[\"location\"].map(clean_thai_province)"
   ]
  },
  {
   "cell_type": "code",
   "execution_count": null,
   "id": "78932b0e-3034-4a89-8fa5-04f7ffb53708",
   "metadata": {},
   "outputs": [],
   "source": []
  },
  {
   "cell_type": "code",
   "execution_count": null,
   "id": "413d93a9-95d4-45e8-a49f-0a471ba85de7",
   "metadata": {},
   "outputs": [],
   "source": []
  }
 ],
 "metadata": {
  "kernelspec": {
   "display_name": "Python 3 (ipykernel)",
   "language": "python",
   "name": "python3"
  },
  "language_info": {
   "codemirror_mode": {
    "name": "ipython",
    "version": 3
   },
   "file_extension": ".py",
   "mimetype": "text/x-python",
   "name": "python",
   "nbconvert_exporter": "python",
   "pygments_lexer": "ipython3",
   "version": "3.10.8"
  }
 },
 "nbformat": 4,
 "nbformat_minor": 5
}
